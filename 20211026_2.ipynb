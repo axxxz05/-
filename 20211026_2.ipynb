{
  "nbformat": 4,
  "nbformat_minor": 0,
  "metadata": {
    "colab": {
      "name": "20211026-2.ipynb",
      "provenance": [],
      "authorship_tag": "ABX9TyOtjCbJRY+NN4D5XFycD48N",
      "include_colab_link": true
    },
    "kernelspec": {
      "name": "python3",
      "display_name": "Python 3"
    },
    "language_info": {
      "name": "python"
    }
  },
  "cells": [
    {
      "cell_type": "markdown",
      "metadata": {
        "id": "view-in-github",
        "colab_type": "text"
      },
      "source": [
        "<a href=\"https://colab.research.google.com/github/axxxz05/-/blob/main/20211026_2.ipynb\" target=\"_parent\"><img src=\"https://colab.research.google.com/assets/colab-badge.svg\" alt=\"Open In Colab\"/></a>"
      ]
    },
    {
      "cell_type": "code",
      "metadata": {
        "id": "ZPKIFp0zAz9B"
      },
      "source": [
        "def solution(word):\n",
        "    myword = list(word)\n",
        "    for i in range(0,len(myword)//2):\n",
        "        if myword[i] == myword[len(myword)-i-1]:\n",
        "            continue\n",
        "        else:\n",
        "            return 'X'\n",
        "    return 'O'"
      ],
      "execution_count": null,
      "outputs": []
    },
    {
      "cell_type": "code",
      "metadata": {
        "colab": {
          "base_uri": "https://localhost:8080/"
        },
        "id": "-We13RthDthp",
        "outputId": "b11ad33b-6b26-4119-8956-e88bf45393e4"
      },
      "source": [
        "print(solution('aabbaa'))"
      ],
      "execution_count": null,
      "outputs": [
        {
          "output_type": "stream",
          "name": "stdout",
          "text": [
            "O\n"
          ]
        }
      ]
    }
  ]
}
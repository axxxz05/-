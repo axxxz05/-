{
  "nbformat": 4,
  "nbformat_minor": 0,
  "metadata": {
    "colab": {
      "name": "20211022.ipynb",
      "provenance": [],
      "authorship_tag": "ABX9TyMEkNM2bpsYEoF5yNdrCOa5",
      "include_colab_link": true
    },
    "kernelspec": {
      "name": "python3",
      "display_name": "Python 3"
    },
    "language_info": {
      "name": "python"
    }
  },
  "cells": [
    {
      "cell_type": "markdown",
      "metadata": {
        "id": "view-in-github",
        "colab_type": "text"
      },
      "source": [
        "<a href=\"https://colab.research.google.com/github/axxxz05/-/blob/main/20211022.ipynb\" target=\"_parent\"><img src=\"https://colab.research.google.com/assets/colab-badge.svg\" alt=\"Open In Colab\"/></a>"
      ]
    },
    {
      "cell_type": "code",
      "metadata": {
        "id": "thHoyQ4peoF_"
      },
      "source": [
        "a = int(input('첫번째수:'))\n",
        "b = int(input('두번째수:'))\n",
        "while(a != b):\n",
        "  if(a > b): a -= b\n",
        "  else: b -= a\n",
        "print(a)"
      ],
      "execution_count": null,
      "outputs": []
    }
  ]
}
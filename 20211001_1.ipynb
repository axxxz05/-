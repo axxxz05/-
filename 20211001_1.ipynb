{
  "nbformat": 4,
  "nbformat_minor": 0,
  "metadata": {
    "colab": {
      "name": "20211001-1.ipynb",
      "provenance": [],
      "authorship_tag": "ABX9TyPS3/3/F/+SSlnlqc8JfyFj",
      "include_colab_link": true
    },
    "kernelspec": {
      "name": "python3",
      "display_name": "Python 3"
    },
    "language_info": {
      "name": "python"
    }
  },
  "cells": [
    {
      "cell_type": "markdown",
      "metadata": {
        "id": "view-in-github",
        "colab_type": "text"
      },
      "source": [
        "<a href=\"https://colab.research.google.com/github/axxxz05/-/blob/main/20211001_1.ipynb\" target=\"_parent\"><img src=\"https://colab.research.google.com/assets/colab-badge.svg\" alt=\"Open In Colab\"/></a>"
      ]
    },
    {
      "cell_type": "code",
      "metadata": {
        "colab": {
          "base_uri": "https://localhost:8080/"
        },
        "id": "hlykHVOUL8Qk",
        "outputId": "3d4059c2-4ad8-456c-d808-cc716a1798b6"
      },
      "source": [
        "import random\n",
        "\n",
        "num = random.randrange(1,4)\n",
        "\n",
        "print(num)"
      ],
      "execution_count": null,
      "outputs": [
        {
          "output_type": "stream",
          "name": "stdout",
          "text": [
            "2\n"
          ]
        }
      ]
    },
    {
      "cell_type": "code",
      "metadata": {
        "colab": {
          "base_uri": "https://localhost:8080/"
        },
        "id": "RJtsucfLT7x3",
        "outputId": "3bf1fad7-ce6e-43d7-e977-a77955db7c69"
      },
      "source": [
        "count = 0\n",
        "\n",
        "while count < 11:\n",
        "  print(count, end='')\n",
        "  count = count + 1"
      ],
      "execution_count": null,
      "outputs": [
        {
          "output_type": "stream",
          "name": "stdout",
          "text": [
            "012345678910"
          ]
        }
      ]
    },
    {
      "cell_type": "code",
      "metadata": {
        "colab": {
          "base_uri": "https://localhost:8080/",
          "height": 232
        },
        "id": "6ecS2npgUW4X",
        "outputId": "618bc89d-c76a-4d24-c397-375d7c6cee73"
      },
      "source": [
        "import time\n",
        "while True:\n",
        "   print('a', end = '')\n",
        "   time.sleep(3) "
      ],
      "execution_count": null,
      "outputs": [
        {
          "output_type": "stream",
          "name": "stdout",
          "text": [
            "a"
          ]
        },
        {
          "output_type": "error",
          "ename": "KeyboardInterrupt",
          "evalue": "ignored",
          "traceback": [
            "\u001b[0;31m---------------------------------------------------------------------------\u001b[0m",
            "\u001b[0;31mKeyboardInterrupt\u001b[0m                         Traceback (most recent call last)",
            "\u001b[0;32m<ipython-input-27-345618615b5a>\u001b[0m in \u001b[0;36m<module>\u001b[0;34m()\u001b[0m\n\u001b[1;32m      2\u001b[0m \u001b[0;32mwhile\u001b[0m \u001b[0;32mTrue\u001b[0m\u001b[0;34m:\u001b[0m\u001b[0;34m\u001b[0m\u001b[0;34m\u001b[0m\u001b[0m\n\u001b[1;32m      3\u001b[0m    \u001b[0mprint\u001b[0m\u001b[0;34m(\u001b[0m\u001b[0;34m'a'\u001b[0m\u001b[0;34m,\u001b[0m \u001b[0mend\u001b[0m \u001b[0;34m=\u001b[0m \u001b[0;34m''\u001b[0m\u001b[0;34m)\u001b[0m\u001b[0;34m\u001b[0m\u001b[0;34m\u001b[0m\u001b[0m\n\u001b[0;32m----> 4\u001b[0;31m    \u001b[0mtime\u001b[0m\u001b[0;34m.\u001b[0m\u001b[0msleep\u001b[0m\u001b[0;34m(\u001b[0m\u001b[0;36m3\u001b[0m\u001b[0;34m)\u001b[0m\u001b[0;34m\u001b[0m\u001b[0;34m\u001b[0m\u001b[0m\n\u001b[0m",
            "\u001b[0;31mKeyboardInterrupt\u001b[0m: "
          ]
        }
      ]
    },
    {
      "cell_type": "code",
      "metadata": {
        "id": "mMECR52rdcbD"
      },
      "source": [
        "import random\n",
        "import time\n",
        "\n",
        "mywin = 0\n",
        "comwin = 0\n",
        "\n",
        "while True:\n",
        "    num = random.randrange(1,4)  # 1은 가위, 2는 바위, 3은 보\n",
        "    if num == 1:\n",
        "        mywin = mywin + 1\n",
        "    elif num == 3:\n",
        "        comwin = comwin + 1\n",
        "    elif num == 2:\n",
        "      print('비겻당')\n",
        "    print('상윤수 : {0}, 컴퓨터 : {1}'.format(mywin, comwin))\n",
        "  time.sleep(2)"
      ],
      "execution_count": null,
      "outputs": []
    }
  ]
}
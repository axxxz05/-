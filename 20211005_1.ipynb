{
  "nbformat": 4,
  "nbformat_minor": 0,
  "metadata": {
    "colab": {
      "name": "20211005-1.ipynb",
      "provenance": [],
      "authorship_tag": "ABX9TyPM11ArDOYOshkNYW7iXrjQ",
      "include_colab_link": true
    },
    "kernelspec": {
      "name": "python3",
      "display_name": "Python 3"
    },
    "language_info": {
      "name": "python"
    }
  },
  "cells": [
    {
      "cell_type": "markdown",
      "metadata": {
        "id": "view-in-github",
        "colab_type": "text"
      },
      "source": [
        "<a href=\"https://colab.research.google.com/github/axxxz05/-/blob/main/20211005_1.ipynb\" target=\"_parent\"><img src=\"https://colab.research.google.com/assets/colab-badge.svg\" alt=\"Open In Colab\"/></a>"
      ]
    },
    {
      "cell_type": "code",
      "metadata": {
        "colab": {
          "base_uri": "https://localhost:8080/",
          "height": 137
        },
        "id": "qQYxBCElz2Ko",
        "outputId": "09344cff-9334-4f28-da44-5a8b86a6fcc5"
      },
      "source": [
        "import random\n",
        "\n",
        "money = 1000000\n",
        "\n",
        "print('*' * 8 )\n",
        "print('* 식보 *')\n",
        "print('*' * 8 )\n",
        "print('보유 금액:{0}', format(money))\n",
        "\n",
        "while True:\n",
        "    result = 0\n",
        "    bet = input('(B : 11~17, S : 4~10): ')\n",
        "\n",
        "    a = random.randrange(1, 7)\n",
        "    b = random.randrange(1, 7)\n",
        "    c = random.randrange(1, 7)\n",
        "    print('주사위: {0} {1} {2}'.format(a, b, c))\n",
        "\n",
        "    result = a + b + c\n",
        "    if result > 3 and result < 11:\n",
        "        print('결과: S')\n",
        "    else:\n",
        "        print('결과: B')\n",
        "\n",
        "    if (bet == 'B') and (result > 3 and result < 11):\n",
        "        print('당신은 돈을 잃었습니다.')\n",
        "        money -= 50000\n",
        "    elif (bet == 'B') and (result > 10 and result < 18):\n",
        "        print('당신은 돈을 땃습니다.')\n",
        "        money += 50000\n",
        "    elif (bet == 'S') and (result > 10 and result < 18):\n",
        "        print('당신은 돈을 잃었습니다.')\n",
        "        money -= 50000\n",
        "    elif (bet == 'S') and (result > 3 and result < 11):\n",
        "        print('당신은 돈을 땃습니다.')\n",
        "        money += 50000\n",
        "\n",
        "    print('보유 금액: {0}\\n'.format(money))S"
      ],
      "execution_count": null,
      "outputs": [
        {
          "output_type": "error",
          "ename": "SyntaxError",
          "evalue": "ignored",
          "traceback": [
            "\u001b[0;36m  File \u001b[0;32m\"<ipython-input-20-9c4c7b3be1e2>\"\u001b[0;36m, line \u001b[0;32m38\u001b[0m\n\u001b[0;31m    print('보유 금액: {0}\\n'.format(money))S\u001b[0m\n\u001b[0m                                       ^\u001b[0m\n\u001b[0;31mSyntaxError\u001b[0m\u001b[0;31m:\u001b[0m invalid syntax\n"
          ]
        }
      ]
    }
  ]
}
{
  "nbformat": 4,
  "nbformat_minor": 0,
  "metadata": {
    "colab": {
      "name": "20210928-1.ipynb",
      "provenance": [],
      "authorship_tag": "ABX9TyP9/g7+L4lcmHsqTakGODKU",
      "include_colab_link": true
    },
    "kernelspec": {
      "name": "python3",
      "display_name": "Python 3"
    },
    "language_info": {
      "name": "python"
    }
  },
  "cells": [
    {
      "cell_type": "markdown",
      "metadata": {
        "id": "view-in-github",
        "colab_type": "text"
      },
      "source": [
        "<a href=\"https://colab.research.google.com/github/axxxz05/-/blob/main/20210928_1.ipynb\" target=\"_parent\"><img src=\"https://colab.research.google.com/assets/colab-badge.svg\" alt=\"Open In Colab\"/></a>"
      ]
    },
    {
      "cell_type": "code",
      "metadata": {
        "colab": {
          "base_uri": "https://localhost:8080/"
        },
        "id": "X8_D6fhRwIr2",
        "outputId": "1c76a298-a39e-4312-fae7-59de55dba66f"
      },
      "source": [
        "num = 10\n",
        "\n",
        "for i in range(1,11):\n",
        "    if num%i == 0:\n",
        "      print(i, end = ' ')"
      ],
      "execution_count": null,
      "outputs": [
        {
          "output_type": "stream",
          "name": "stdout",
          "text": [
            "1 2 5 10 "
          ]
        }
      ]
    },
    {
      "cell_type": "code",
      "metadata": {
        "colab": {
          "base_uri": "https://localhost:8080/"
        },
        "id": "H117dE_p4dyJ",
        "outputId": "2e8aac7d-bb3b-46bc-eae7-646a584e7696"
      },
      "source": [
        "num = 100\n",
        "\n",
        "for i in range(1, num + 1):\n",
        "    if num%i == 0:\n",
        "      print(i, end = ' ')"
      ],
      "execution_count": null,
      "outputs": [
        {
          "output_type": "stream",
          "name": "stdout",
          "text": [
            "1 2 4 5 10 20 25 50 100 "
          ]
        }
      ]
    },
    {
      "cell_type": "code",
      "metadata": {
        "colab": {
          "base_uri": "https://localhost:8080/"
        },
        "id": "oqNYx9us5FIh",
        "outputId": "496606cf-fd6b-4e33-e202-881fe545537b"
      },
      "source": [
        "num = int(input('값을 입력하세요.:'))\n",
        "\n",
        "for i in range(1, num + 1):\n",
        "    if num%i == 0:\n",
        "      print(i, end = ' ')"
      ],
      "execution_count": null,
      "outputs": [
        {
          "output_type": "stream",
          "name": "stdout",
          "text": [
            "값을 입력하세요.:17\n",
            "1 17 "
          ]
        }
      ]
    },
    {
      "cell_type": "code",
      "metadata": {
        "colab": {
          "base_uri": "https://localhost:8080/"
        },
        "id": "uiimvMHW5lKB",
        "outputId": "4127211c-f98d-4935-9222-1f4a1a3eb2fa"
      },
      "source": [
        "num = 10\n",
        "count = 0\n",
        "\n",
        "for i in range(1,11):\n",
        "    if num%i == 0:\n",
        "      count = count + 1\n",
        "\n",
        "print(count)"
      ],
      "execution_count": null,
      "outputs": [
        {
          "output_type": "stream",
          "name": "stdout",
          "text": [
            "4\n"
          ]
        }
      ]
    },
    {
      "cell_type": "code",
      "metadata": {
        "colab": {
          "base_uri": "https://localhost:8080/"
        },
        "id": "xnVnFCh96lMx",
        "outputId": "5a584f4d-60af-4396-dac2-c4d5c07bfaee"
      },
      "source": [
        "num = int(input('값을 입력하세요.:'))\n",
        "count = 0\n",
        "\n",
        "for i in range(1, num + 1):\n",
        "    if num%i == 0:\n",
        "      count = count + 1\n",
        "\n",
        "print('입력하신 {0}의 약수의 개수는 {1}개 입니다.'.format(num, count))"
      ],
      "execution_count": null,
      "outputs": [
        {
          "output_type": "stream",
          "name": "stdout",
          "text": [
            "값을 입력하세요.:18\n",
            "입력하신 18의 약수의 개수는 6개 입니다.\n"
          ]
        }
      ]
    },
    {
      "cell_type": "code",
      "metadata": {
        "colab": {
          "base_uri": "https://localhost:8080/"
        },
        "id": "1jWq77Kw7OFR",
        "outputId": "616286b0-7897-48e7-de5b-9b71f4d07aad"
      },
      "source": [
        "num = int(input('값을 입력하세요.:'))\n",
        "count = 0\n",
        "\n",
        "for i in range(1, num + 1):\n",
        "    if num % i == 0:\n",
        "      count = count + 1\n",
        "\n",
        "if count == 2:\n",
        "    print('소수입니다.')\n",
        "else:\n",
        "  print('소수아닙니다.')"
      ],
      "execution_count": null,
      "outputs": [
        {
          "output_type": "stream",
          "name": "stdout",
          "text": [
            "값을 입력하세요.:79\n",
            "소수입니다.\n"
          ]
        }
      ]
    }
  ]
}
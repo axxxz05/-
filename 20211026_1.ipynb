{
  "nbformat": 4,
  "nbformat_minor": 0,
  "metadata": {
    "colab": {
      "name": "20211026-1.ipynb",
      "provenance": [],
      "authorship_tag": "ABX9TyM65UUrWhywMISZQI0I4Oa0",
      "include_colab_link": true
    },
    "kernelspec": {
      "name": "python3",
      "display_name": "Python 3"
    },
    "language_info": {
      "name": "python"
    }
  },
  "cells": [
    {
      "cell_type": "markdown",
      "metadata": {
        "id": "view-in-github",
        "colab_type": "text"
      },
      "source": [
        "<a href=\"https://colab.research.google.com/github/axxxz05/-/blob/main/20211026_1.ipynb\" target=\"_parent\"><img src=\"https://colab.research.google.com/assets/colab-badge.svg\" alt=\"Open In Colab\"/></a>"
      ]
    },
    {
      "cell_type": "code",
      "metadata": {
        "id": "-hHPed1ZzLRf"
      },
      "source": [
        "def solution(n):\n",
        "    sum = 0\n",
        "\n",
        "    while n > 0:\n",
        "      sum = sum + (n % 10)\n",
        "      n = n // 10\n",
        "    return sum"
      ],
      "execution_count": null,
      "outputs": []
    },
    {
      "cell_type": "code",
      "metadata": {
        "id": "CgTXh_7r4LCG",
        "colab": {
          "base_uri": "https://localhost:8080/"
        },
        "outputId": "eb718a86-75ba-4bfd-c4cb-5b7de4119256"
      },
      "source": [
        "print(solution(12345))"
      ],
      "execution_count": null,
      "outputs": [
        {
          "output_type": "stream",
          "name": "stdout",
          "text": [
            "15\n"
          ]
        }
      ]
    },
    {
      "cell_type": "code",
      "metadata": {
        "colab": {
          "base_uri": "https://localhost:8080/"
        },
        "id": "aU3khau17J0-",
        "outputId": "607b5092-75ca-405a-c6cb-ff272eddadaa"
      },
      "source": [
        "a = 12345\n",
        "sum = 0\n",
        "for i in str(a):\n",
        "    sum = sum + int(i)\n",
        "print(sum)"
      ],
      "execution_count": null,
      "outputs": [
        {
          "output_type": "stream",
          "name": "stdout",
          "text": [
            "15\n"
          ]
        }
      ]
    },
    {
      "cell_type": "code",
      "metadata": {
        "id": "aQnaEzKz8dcu"
      },
      "source": [
        ""
      ],
      "execution_count": null,
      "outputs": []
    }
  ]
}
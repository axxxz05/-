{
  "nbformat": 4,
  "nbformat_minor": 0,
  "metadata": {
    "colab": {
      "name": "20211001-3.ipynb",
      "provenance": [],
      "authorship_tag": "ABX9TyNhrZuqQ26trdo+WJlVLtEo",
      "include_colab_link": true
    },
    "kernelspec": {
      "name": "python3",
      "display_name": "Python 3"
    },
    "language_info": {
      "name": "python"
    }
  },
  "cells": [
    {
      "cell_type": "markdown",
      "metadata": {
        "id": "view-in-github",
        "colab_type": "text"
      },
      "source": [
        "<a href=\"https://colab.research.google.com/github/axxxz05/-/blob/main/20211001_3.ipynb\" target=\"_parent\"><img src=\"https://colab.research.google.com/assets/colab-badge.svg\" alt=\"Open In Colab\"/></a>"
      ]
    },
    {
      "cell_type": "code",
      "metadata": {
        "colab": {
          "base_uri": "https://localhost:8080/"
        },
        "id": "87Ras-OCkUz2",
        "outputId": "f95ef93c-e7d8-40c3-f857-27e229de1899"
      },
      "source": [
        "a = {1,2,3}\n",
        "print(a)\n",
        "a.add(7)\n",
        "print(a)\n",
        "a.add(1)\n",
        "print(len(a))"
      ],
      "execution_count": null,
      "outputs": [
        {
          "output_type": "stream",
          "name": "stdout",
          "text": [
            "{1, 2, 3}\n",
            "{1, 2, 3, 7}\n",
            "4\n"
          ]
        }
      ]
    },
    {
      "cell_type": "code",
      "metadata": {
        "colab": {
          "base_uri": "https://localhost:8080/"
        },
        "id": "AdYUmIaYk-ia",
        "outputId": "96791f6f-4d9b-4efb-c2c9-6c0add184ad8"
      },
      "source": [
        "import random\n",
        "\n",
        "lotto = set()\n",
        "#print(type(lotto))\n",
        "count = 0\n",
        "while len(lotto) < 6 :\n",
        "    lotto.add(random.randrange(1,46))\n",
        "    count = count + 1\n",
        "print(lotto)\n",
        "print(count)\n"
      ],
      "execution_count": null,
      "outputs": [
        {
          "output_type": "stream",
          "name": "stdout",
          "text": [
            "{2, 3, 5, 6, 45, 28}\n",
            "8\n"
          ]
        }
      ]
    }
  ]
}
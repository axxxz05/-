{
  "nbformat": 4,
  "nbformat_minor": 0,
  "metadata": {
    "colab": {
      "name": "20211005-2.ipynb",
      "provenance": [],
      "authorship_tag": "ABX9TyOlLOT6EOD2YHwCotRNsNkx",
      "include_colab_link": true
    },
    "kernelspec": {
      "name": "python3",
      "display_name": "Python 3"
    },
    "language_info": {
      "name": "python"
    }
  },
  "cells": [
    {
      "cell_type": "markdown",
      "metadata": {
        "id": "view-in-github",
        "colab_type": "text"
      },
      "source": [
        "<a href=\"https://colab.research.google.com/github/axxxz05/-/blob/main/20211005_2.ipynb\" target=\"_parent\"><img src=\"https://colab.research.google.com/assets/colab-badge.svg\" alt=\"Open In Colab\"/></a>"
      ]
    },
    {
      "cell_type": "code",
      "metadata": {
        "id": "slnRUYoGAcJs"
      },
      "source": [
        "import random\n",
        "import time\n",
        "\n",
        "fail,big,small, count = 0,0,0,0\n",
        "\n",
        "while True:\n",
        "    count = count + 1\n",
        "\n",
        "    a = random.randrange(1, 7)\n",
        "    b = random.randrange(1, 7)\n",
        "    c = random.randrange(1, 7)\n",
        "\n",
        "    if a + b + c == 3 or a + b + c == 18:\n",
        "        fail = fail + 1\n",
        "    elif a + b + c < 11:\n",
        "        small = small + 1\n",
        "    else:\n",
        "        big = big + 1\n",
        "    print('big확률:{0}, small확률:{1}'.format((big/count)*100,(small/count)*100))\n",
        "    time.sleep(0.1)"
      ],
      "execution_count": null,
      "outputs": []
    }
  ]
}